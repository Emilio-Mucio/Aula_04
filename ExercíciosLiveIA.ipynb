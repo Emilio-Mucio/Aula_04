{
  "nbformat": 4,
  "nbformat_minor": 0,
  "metadata": {
    "colab": {
      "provenance": [],
      "authorship_tag": "ABX9TyOtBAeieFqeByqC6F+jHcXl",
      "include_colab_link": true
    },
    "kernelspec": {
      "name": "python3",
      "display_name": "Python 3"
    },
    "language_info": {
      "name": "python"
    }
  },
  "cells": [
    {
      "cell_type": "markdown",
      "metadata": {
        "id": "view-in-github",
        "colab_type": "text"
      },
      "source": [
        "<a href=\"https://colab.research.google.com/github/Emilio-Mucio/Aula_04/blob/main/Exerc%C3%ADciosLiveIA.ipynb\" target=\"_parent\"><img src=\"https://colab.research.google.com/assets/colab-badge.svg\" alt=\"Open In Colab\"/></a>"
      ]
    },
    {
      "cell_type": "code",
      "execution_count": 2,
      "metadata": {
        "colab": {
          "base_uri": "https://localhost:8080/"
        },
        "id": "0TjEv6dxkXe3",
        "outputId": "d50c51fc-0dde-417b-af4e-c40bf4de5a60"
      },
      "outputs": [
        {
          "output_type": "stream",
          "name": "stdout",
          "text": [
            "olá mundo\n"
          ]
        }
      ],
      "source": [
        "print('olá mundo')"
      ]
    },
    {
      "cell_type": "code",
      "source": [
        "#trazendo a biblioteca capaz de realizar requisições\n",
        "import requests\n",
        "import random\n",
        "#cirei uma variável chamada url que armazena o endereço com as informações que eu quero buscar\n",
        "url = 'https://raw.githubusercontent.com/guilhermeonrails/api-imersao-ia/main/words.json'\n",
        "#faço a requisão e armazeno em uma variável chamada resposta\n",
        "resposta = requests.get(url)\n",
        "# A gente transforma a resposta em forma de json\n",
        "data = resposta.json()\n",
        "len(data)\n",
        "type(data)\n",
        "#exibindo as informações\n",
        "data #pode ser colocado o print também que exibirá tudo em uma única linha\n"
      ],
      "metadata": {
        "colab": {
          "base_uri": "https://localhost:8080/"
        },
        "id": "NLW-Mw7QqfTl",
        "outputId": "4650955c-b358-4e39-917b-bfb1565e564c"
      },
      "execution_count": 39,
      "outputs": [
        {
          "output_type": "execute_result",
          "data": {
            "text/plain": [
              "[{'palavra': 'python',\n",
              "  'dica': 'automatizar tarefas e desenvolver aplicações web.'},\n",
              " {'palavra': 'javascript',\n",
              "  'dica': 'criar interatividade em páginas web e desenvolver aplicações front-end.'},\n",
              " {'palavra': 'java',\n",
              "  'dica': 'desenvolver aplicações empresariais e para dispositivos móveis.'},\n",
              " {'palavra': 'html', 'dica': 'estruturar conteúdo em páginas web.'},\n",
              " {'palavra': 'css', 'dica': 'estilizar elementos em páginas web.'},\n",
              " {'palavra': 'sql',\n",
              "  'dica': 'gerenciar e consultar bancos de dados relacionais.'},\n",
              " {'palavra': 'react',\n",
              "  'dica': 'desenvolver interfaces de usuário reativas e escaláveis.'},\n",
              " {'palavra': 'angular',\n",
              "  'dica': 'construir aplicativos web spa (single page application) complexos.'},\n",
              " {'palavra': 'node',\n",
              "  'dica': 'criar aplicativos de servidor escaláveis e de alta performance.'},\n",
              " {'palavra': 'vue',\n",
              "  'dica': 'desenvolver interfaces de usuário interativas e dinâmicas.'},\n",
              " {'palavra': 'ruby',\n",
              "  'dica': 'desenvolver aplicações web e scripts de automação.'},\n",
              " {'palavra': 'php',\n",
              "  'dica': 'construir aplicações web dinâmicas e interativas.'},\n",
              " {'palavra': 'c++',\n",
              "  'dica': 'desenvolver software de sistema, jogos e aplicações de alto desempenho.'},\n",
              " {'palavra': 'c#',\n",
              "  'dica': 'desenvolver aplicações windows e jogos utilizando o framework .net.'},\n",
              " {'palavra': 'swift',\n",
              "  'dica': 'desenvolver aplicativos para dispositivos apple, como iphone e ipad.'},\n",
              " {'palavra': 'kotlin',\n",
              "  'dica': 'desenvolver aplicativos android modernos e seguros.'},\n",
              " {'palavra': 'tensorflow',\n",
              "  'dica': 'construir e treinar modelos de aprendizado de máquina.'},\n",
              " {'palavra': 'pytorch',\n",
              "  'dica': 'desenvolver e treinar modelos de aprendizado profundo.'},\n",
              " {'palavra': 'mongodb',\n",
              "  'dica': 'armazenar e consultar dados de forma flexível e escalável.'},\n",
              " {'palavra': 'postgresql',\n",
              "  'dica': 'gerenciar dados estruturados e relacionais com segurança.'},\n",
              " {'palavra': 'docker',\n",
              "  'dica': 'empacotar, distribuir e executar aplicativos em contêineres.'},\n",
              " {'palavra': 'kubernetes',\n",
              "  'dica': 'orquestrar e gerenciar contêineres em ambientes de produção.'},\n",
              " {'palavra': 'git',\n",
              "  'dica': 'controlar e colaborar no desenvolvimento de código-fonte.'},\n",
              " {'palavra': 'jupyter',\n",
              "  'dica': 'criar e compartilhar documentos que contenham código interativo, visualizações e textos explicativos.'},\n",
              " {'palavra': 'r',\n",
              "  'dica': 'analisar dados e criar visualizações estatísticas.'},\n",
              " {'palavra': 'scala',\n",
              "  'dica': 'desenvolver aplicativos escaláveis e concorrentes na jvm.'},\n",
              " {'palavra': 'hadoop',\n",
              "  'dica': 'armazenar e processar grandes volumes de dados em clusters distribuídos.'},\n",
              " {'palavra': 'spark',\n",
              "  'dica': 'processar e analisar dados de forma rápida e escalável.'},\n",
              " {'palavra': 'arduino',\n",
              "  'dica': 'desenvolver projetos eletrônicos interativos e automatizados.'},\n",
              " {'palavra': 'raspberry',\n",
              "  'dica': 'criar dispositivos e projetos de iot (internet das coisas) com baixo custo.'},\n",
              " {'palavra': 'linux',\n",
              "  'dica': 'utilizar e administrar sistemas operacionais de código aberto.'},\n",
              " {'palavra': 'windows',\n",
              "  'dica': 'desenvolver aplicativos e sistemas operacionais para computadores pessoais.'},\n",
              " {'palavra': 'macos',\n",
              "  'dica': 'desenvolver aplicativos para computadores apple e sistemas operacionais.'},\n",
              " {'palavra': 'android',\n",
              "  'dica': 'desenvolver aplicativos para dispositivos móveis android.'},\n",
              " {'palavra': 'ios',\n",
              "  'dica': 'desenvolver aplicativos para dispositivos móveis apple (iphone e ipad).'},\n",
              " {'palavra': 'firebase',\n",
              "  'dica': 'desenvolver aplicativos móveis e web com uma plataforma de backend escalável.'},\n",
              " {'palavra': 'aws',\n",
              "  'dica': 'implantar e gerenciar aplicativos em uma plataforma de nuvem líder de mercado.'},\n",
              " {'palavra': 'azure',\n",
              "  'dica': 'desenvolver, implantar e gerenciar aplicativos em uma plataforma de nuvem da microsoft.'},\n",
              " {'palavra': 'google',\n",
              "  'dica': 'utilizar serviços e produtos da google para desenvolvimento e negócios.'},\n",
              " {'palavra': 'api',\n",
              "  'dica': 'integrar e comunicar sistemas e serviços de software.'},\n",
              " {'palavra': 'rest',\n",
              "  'dica': 'criar e consumir apis web de maneira simples e eficiente.'},\n",
              " {'palavra': 'graphql',\n",
              "  'dica': 'consultar e manipular dados de forma eficiente e flexível.'},\n",
              " {'palavra': 'oauth',\n",
              "  'dica': 'implementar autenticação e autorização em aplicativos.'}]"
            ]
          },
          "metadata": {},
          "execution_count": 39
        }
      ]
    },
    {
      "cell_type": "code",
      "source": [
        "data[1]\n"
      ],
      "metadata": {
        "colab": {
          "base_uri": "https://localhost:8080/"
        },
        "id": "CfTIN9YFvuhf",
        "outputId": "82d56a6d-7df6-4bc7-d4b5-f9a22edb28fc"
      },
      "execution_count": 14,
      "outputs": [
        {
          "output_type": "execute_result",
          "data": {
            "text/plain": [
              "{'palavra': 'javascript',\n",
              " 'dica': 'criar interatividade em páginas web e desenvolver aplicações front-end.'}"
            ]
          },
          "metadata": {},
          "execution_count": 14
        }
      ]
    },
    {
      "cell_type": "code",
      "source": [
        "#vendo como podemos acessar cada um dos objetos ou informações contidas nas variáveis\n",
        "#todo lista em Python começa com o índice 0\n",
        "#para os últimos elementos podemos usar o -1 -2 ...\n",
        "data [0]"
      ],
      "metadata": {
        "colab": {
          "base_uri": "https://localhost:8080/"
        },
        "id": "ylDLcBArxnqk",
        "outputId": "f3ca2c36-d056-43d5-f1cf-f2589fad74af"
      },
      "execution_count": 16,
      "outputs": [
        {
          "output_type": "execute_result",
          "data": {
            "text/plain": [
              "{'palavra': 'python',\n",
              " 'dica': 'automatizar tarefas e desenvolver aplicações web.'}"
            ]
          },
          "metadata": {},
          "execution_count": 16
        }
      ]
    },
    {
      "cell_type": "code",
      "source": [
        "data [-2]"
      ],
      "metadata": {
        "colab": {
          "base_uri": "https://localhost:8080/"
        },
        "id": "Hfx88J2Px6g3",
        "outputId": "b7dab84f-b1b6-48c5-847b-70b23b491895"
      },
      "execution_count": 18,
      "outputs": [
        {
          "output_type": "execute_result",
          "data": {
            "text/plain": [
              "{'palavra': 'graphql',\n",
              " 'dica': 'consultar e manipular dados de forma eficiente e flexível.'}"
            ]
          },
          "metadata": {},
          "execution_count": 18
        }
      ]
    },
    {
      "cell_type": "code",
      "source": [
        "#criou uma variável chamada valor_secreto que armazena uma tecnologia aleatória da lista\n",
        "import random\n",
        "valor_secreto = random.choice(data)\n",
        "#variável para armazenar apenas a palavra\n",
        "palavra_secreta = valor_secreto ['palavra']\n",
        "# outra para armazenar a palvra dica\n",
        "dica = valor_secreto ['dica']\n",
        "#mostrou na tela quantas letras a palavra secreta possui e a dica\n",
        "dica\n",
        "# o 'f' é capaz de juntar palavras e variáveis\n",
        "# receber o chute ou palpite da tcnologia\n",
        "chute = input(f'A palavra secreta tem {len(palavra_secreta)} letras -> {dica}')\n",
        "if chute == palavra_secreta:\n",
        "    print('Você acertou!')\n",
        "else:\n",
        "    print(f'Você errou... a palavra secreta era {palavra_secreta}')"
      ],
      "metadata": {
        "colab": {
          "base_uri": "https://localhost:8080/"
        },
        "id": "4fhCXFmBx_Yj",
        "outputId": "a0bae400-330e-4f1d-9c9a-c4404ac78f7b"
      },
      "execution_count": 46,
      "outputs": [
        {
          "output_type": "stream",
          "name": "stdout",
          "text": [
            "A palavra secreta tem 3 letras -> desenvolver software de sistema, jogos e aplicações de alto desempenho.docker\n",
            "Você errou... a palavra secreta era c++\n"
          ]
        }
      ]
    },
    {
      "cell_type": "markdown",
      "source": [],
      "metadata": {
        "id": "JZ1gm5Od0Xhy"
      }
    },
    {
      "cell_type": "markdown",
      "source": [
        "#Instalando o SDK do Google"
      ],
      "metadata": {
        "id": "DUbFz0w91FFY"
      }
    },
    {
      "cell_type": "code",
      "source": [
        "#Instalando o SDK do Google\n",
        "!pip install -q -U google-generativeai"
      ],
      "metadata": {
        "id": "8vQxbnKF1GOR"
      },
      "execution_count": 8,
      "outputs": []
    },
    {
      "cell_type": "code",
      "source": [
        "#Configurações iniciais\n",
        "import google.generativeai as genai\n",
        "From google import userdata\n",
        "api_key = userdata.get('secret_key')\n",
        "\n",
        "GOOGLE_API_KEY=\"\"\n",
        "genai.configure(api_key=api_key)"
      ],
      "metadata": {
        "id": "FQ4AAgZX2iUL"
      },
      "execution_count": 9,
      "outputs": []
    },
    {
      "cell_type": "markdown",
      "source": [
        "Listar os modelos disponíveis"
      ],
      "metadata": {
        "id": "jclCZ4CY3JDL"
      }
    },
    {
      "cell_type": "code",
      "source": [
        "#Listando os modelos disponíveis\n",
        "for m in genai.list_models():\n",
        "  if 'generateContent' in m.supported_generation_methods:\n",
        "    print(m.name)"
      ],
      "metadata": {
        "colab": {
          "base_uri": "https://localhost:8080/",
          "height": 225
        },
        "id": "z_BONV4C3GYK",
        "outputId": "5ad63359-f3fa-4698-c9f3-4500e5f3f15f"
      },
      "execution_count": 10,
      "outputs": [
        {
          "output_type": "stream",
          "name": "stdout",
          "text": [
            "models/gemini-1.0-pro\n",
            "models/gemini-1.0-pro-001\n",
            "models/gemini-1.0-pro-latest\n",
            "models/gemini-1.0-pro-vision-latest\n",
            "models/gemini-1.5-flash\n",
            "models/gemini-1.5-flash-001\n",
            "models/gemini-1.5-flash-latest\n",
            "models/gemini-1.5-pro\n",
            "models/gemini-1.5-pro-001\n",
            "models/gemini-1.5-pro-latest\n",
            "models/gemini-pro\n",
            "models/gemini-pro-vision\n"
          ]
        }
      ]
    },
    {
      "cell_type": "code",
      "source": [
        "generation_config = {\n",
        "  \"candidate_count\": 1,\n",
        "  \"temperature\": 0.5,\n",
        "}"
      ],
      "metadata": {
        "id": "xIsQbVnc5ZWx"
      },
      "execution_count": 11,
      "outputs": []
    },
    {
      "cell_type": "code",
      "source": [
        "safety_settings={\n",
        "    'HATE': 'BLOCK_NONE',\n",
        "    'HARASSMENT': 'BLOCK_NONE',\n",
        "    'SEXUAL' : 'BLOCK_NONE',\n",
        "    'DANGEROUS' : 'BLOCK_NONE'\n",
        "    }\n",
        "\n",
        ""
      ],
      "metadata": {
        "id": "kkPmFTLV7g1b"
      },
      "execution_count": 12,
      "outputs": []
    },
    {
      "cell_type": "markdown",
      "source": [
        "Inicializando o modelo"
      ],
      "metadata": {
        "id": "q29wHluS_I8z"
      }
    },
    {
      "cell_type": "code",
      "source": [
        "model = genai.GenerativeModel(model_name='gemini-1.0-pro',\n",
        "                                  generation_config=generation_config,\n",
        "                                  safety_settings=safety_settings,)"
      ],
      "metadata": {
        "id": "9DbAV20x_NdC"
      },
      "execution_count": 13,
      "outputs": []
    },
    {
      "cell_type": "code",
      "source": [
        "response = model.generate_content(\"Que empresa criou o modelo de IA Gemini?\")\n",
        "response.text"
      ],
      "metadata": {
        "colab": {
          "base_uri": "https://localhost:8080/",
          "height": 35
        },
        "id": "rhu6WYAFEf00",
        "outputId": "e349e1e6-d98f-4843-d2d7-8babb1dfe0c2"
      },
      "execution_count": 14,
      "outputs": [
        {
          "output_type": "execute_result",
          "data": {
            "text/plain": [
              "'Google'"
            ],
            "application/vnd.google.colaboratory.intrinsic+json": {
              "type": "string"
            }
          },
          "metadata": {},
          "execution_count": 14
        }
      ]
    },
    {
      "cell_type": "markdown",
      "source": [
        "Generete text"
      ],
      "metadata": {
        "id": "kk9GuTLqSwlz"
      }
    },
    {
      "cell_type": "code",
      "source": [
        "response = model.generate_content('vamos aprender conteúdo sobre IA. Me dê sugestões.')\n",
        "print(response.text)"
      ],
      "metadata": {
        "colab": {
          "base_uri": "https://localhost:8080/",
          "height": 868
        },
        "id": "yOQ2-nJpSvtu",
        "outputId": "2d3005ce-20d5-4eb8-9b38-7b5c44240d11"
      },
      "execution_count": 15,
      "outputs": [
        {
          "output_type": "stream",
          "name": "stdout",
          "text": [
            "**Introdução à Inteligência Artificial (IA)**\n",
            "\n",
            "* Definição e escopo da IA\n",
            "* Tipos de IA (Aprendizado de Máquina, Aprendizado Profundo, Processamento de Linguagem Natural)\n",
            "* Aplicações da IA em vários setores\n",
            "\n",
            "**Aprendizado de Máquina (ML)**\n",
            "\n",
            "* Conceitos básicos de ML (dados, modelos, treinamento)\n",
            "* Tipos de ML (supervisionado, não supervisionado, por reforço)\n",
            "* Algoritmos de ML comuns (regressão linear, árvores de decisão, redes neurais)\n",
            "\n",
            "**Aprendizado Profundo (DL)**\n",
            "\n",
            "* Introdução ao DL e sua relação com o ML\n",
            "* Redes neurais (arquiteturas, treinamento)\n",
            "* Aplicações do DL em reconhecimento de imagem, processamento de linguagem natural e muito mais\n",
            "\n",
            "**Processamento de Linguagem Natural (PNL)**\n",
            "\n",
            "* Conceitos básicos de PNL (tokenização, análise sintática, semântica)\n",
            "* Técnicas de PNL (processamento de texto, tradução de idiomas, geração de linguagem)\n",
            "* Aplicações de PNL em chatbots, sistemas de recomendação e análise de sentimento\n",
            "\n",
            "**Ética e Implicações Sociais da IA**\n",
            "\n",
            "* Viés e discriminação na IA\n",
            "* Privacidade e segurança na IA\n",
            "* Impactos éticos e sociais da IA no emprego, saúde e sociedade\n",
            "\n",
            "**Recursos de Aprendizado**\n",
            "\n",
            "**Cursos Online:**\n",
            "\n",
            "* Coursera: Especialização em Inteligência Artificial\n",
            "* edX: Curso de Inteligência Artificial\n",
            "* Udacity: Nanodegree em Inteligência Artificial\n",
            "\n",
            "**Livros:**\n",
            "\n",
            "* \"Inteligência Artificial: Uma Abordagem Moderna\" por Stuart Russell e Peter Norvig\n",
            "* \"Aprendizado de Máquina\" por Tom Mitchell\n",
            "* \"Aprendizado Profundo\" por Ian Goodfellow, Yoshua Bengio e Aaron Courville\n",
            "\n",
            "**Artigos e Documentos de Pesquisa:**\n",
            "\n",
            "* arXiv: Repositório de artigos de pesquisa em IA\n",
            "* IEEE Xplore: Biblioteca de artigos e conferências sobre IA\n",
            "* Nature: Revista científica que publica artigos sobre os últimos avanços em IA\n"
          ]
        }
      ]
    },
    {
      "cell_type": "code",
      "source": [],
      "metadata": {
        "id": "wGKnnwfaSVt6"
      },
      "execution_count": 16,
      "outputs": []
    },
    {
      "cell_type": "code",
      "source": [
        "chat = model.start_chat(history=[])\n",
        "\n",
        "prompt = input('Esperando prompt: ')\n",
        "\n",
        "while prompt != \"fim\":\n",
        "  response = chat.send_message(prompt)\n",
        "  print(\"Resposta:\", response.text, '\\n\\n')\n",
        "  prompt = input('Esperando prompt: ')"
      ],
      "metadata": {
        "colab": {
          "base_uri": "https://localhost:8080/",
          "height": 243
        },
        "id": "1zJzbKd4VoVg",
        "outputId": "66a1347e-5329-4a06-9258-d446b301cacc"
      },
      "execution_count": 23,
      "outputs": [
        {
          "name": "stdout",
          "output_type": "stream",
          "text": [
            "Esperando prompt: qual a capital do japão?\n",
            "Resposta: Tóquio \n",
            "\n",
            "\n",
            "Esperando prompt: Qual é a população dessa cidade?\n",
            "Resposta: 13.960.236 (2023) \n",
            "\n",
            "\n",
            "Esperando prompt: e a população metropolitana?\n",
            "Resposta: 37.339.804 (2023) \n",
            "\n",
            "\n",
            "Esperando prompt: fim\n"
          ]
        }
      ]
    },
    {
      "source": [
        "#Melhorando a visualização\n",
        "#Código disponível em https://ai.google.dev/tutorials/python_quickstart#import_packages\n",
        "import textwrap\n",
        "from IPython.display import display\n",
        "from IPython.display import Markdown\n",
        "\n",
        "def to_markdown(text):\n",
        "  text = text.replace('•', '  *')\n",
        "  return Markdown(textwrap.indent(text, '> ', predicate=lambda _: True))\n",
        "\n",
        "#Imprimindo o histórico\n",
        "for message in chat.history:\n",
        "  display(to_markdown(f'**{message.role}**: {message.parts[0].text}'))\n",
        "  print('-------------------------------------------')"
      ],
      "cell_type": "code",
      "metadata": {
        "colab": {
          "base_uri": "https://localhost:8080/",
          "height": 393
        },
        "id": "rDQUEb6pYaI9",
        "outputId": "b6fe9dc1-3254-467e-8223-50d1e7b4feef"
      },
      "execution_count": 24,
      "outputs": [
        {
          "output_type": "display_data",
          "data": {
            "text/plain": [
              "<IPython.core.display.Markdown object>"
            ],
            "text/markdown": "> **user**: qual a capital do japão?"
          },
          "metadata": {}
        },
        {
          "output_type": "stream",
          "name": "stdout",
          "text": [
            "-------------------------------------------\n"
          ]
        },
        {
          "output_type": "display_data",
          "data": {
            "text/plain": [
              "<IPython.core.display.Markdown object>"
            ],
            "text/markdown": "> **model**: Tóquio"
          },
          "metadata": {}
        },
        {
          "output_type": "stream",
          "name": "stdout",
          "text": [
            "-------------------------------------------\n"
          ]
        },
        {
          "output_type": "display_data",
          "data": {
            "text/plain": [
              "<IPython.core.display.Markdown object>"
            ],
            "text/markdown": "> **user**: Qual é a população dessa cidade?"
          },
          "metadata": {}
        },
        {
          "output_type": "stream",
          "name": "stdout",
          "text": [
            "-------------------------------------------\n"
          ]
        },
        {
          "output_type": "display_data",
          "data": {
            "text/plain": [
              "<IPython.core.display.Markdown object>"
            ],
            "text/markdown": "> **model**: 13.960.236 (2023)"
          },
          "metadata": {}
        },
        {
          "output_type": "stream",
          "name": "stdout",
          "text": [
            "-------------------------------------------\n"
          ]
        },
        {
          "output_type": "display_data",
          "data": {
            "text/plain": [
              "<IPython.core.display.Markdown object>"
            ],
            "text/markdown": "> **user**: e a população metropolitana?"
          },
          "metadata": {}
        },
        {
          "output_type": "stream",
          "name": "stdout",
          "text": [
            "-------------------------------------------\n"
          ]
        },
        {
          "output_type": "display_data",
          "data": {
            "text/plain": [
              "<IPython.core.display.Markdown object>"
            ],
            "text/markdown": "> **model**: 37.339.804 (2023)"
          },
          "metadata": {}
        },
        {
          "output_type": "stream",
          "name": "stdout",
          "text": [
            "-------------------------------------------\n"
          ]
        }
      ]
    },
    {
      "cell_type": "code",
      "source": [],
      "metadata": {
        "id": "U3ueGUIMWN2y"
      },
      "execution_count": null,
      "outputs": []
    }
  ]
}